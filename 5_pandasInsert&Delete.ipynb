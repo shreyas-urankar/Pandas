{
 "cells": [
  {
   "cell_type": "markdown",
   "metadata": {},
   "source": [
    "# Insert"
   ]
  },
  {
   "cell_type": "code",
   "execution_count": 1,
   "metadata": {},
   "outputs": [
    {
     "name": "stdout",
     "output_type": "stream",
     "text": [
      "   A  B  C\n",
      "0  1  6  0\n",
      "1  2  7  5\n",
      "2  3  8  7\n",
      "3  4  9  6\n",
      "4  5  5  1\n"
     ]
    }
   ],
   "source": [
    "import pandas as pd \n",
    "var = pd.DataFrame({'A':[1,2,3,4,5],'B':[6,7,8,9,5], 'C':[0,5,7,6,1]})\n",
    "print(var)"
   ]
  },
  {
   "cell_type": "code",
   "execution_count": 2,
   "metadata": {},
   "outputs": [
    {
     "name": "stdout",
     "output_type": "stream",
     "text": [
      "   A  python  B  C\n",
      "0  1       1  6  0\n",
      "1  2       2  7  5\n",
      "2  3       3  8  7\n",
      "3  4       4  9  6\n",
      "4  5       5  5  1\n"
     ]
    }
   ],
   "source": [
    "var.insert(1, 'python',var[\"A\"])\n",
    "print(var)"
   ]
  },
  {
   "cell_type": "code",
   "execution_count": 3,
   "metadata": {},
   "outputs": [
    {
     "name": "stdout",
     "output_type": "stream",
     "text": [
      "   A  python_1  python  B  C\n",
      "0  1        11       1  6  0\n",
      "1  2        12       2  7  5\n",
      "2  3        13       3  8  7\n",
      "3  4        14       4  9  6\n",
      "4  5        15       5  5  1\n"
     ]
    }
   ],
   "source": [
    "var.insert(1, 'python_1',[11,12,13,14,15])\n",
    "print(var)"
   ]
  },
  {
   "cell_type": "code",
   "execution_count": 4,
   "metadata": {},
   "outputs": [
    {
     "name": "stdout",
     "output_type": "stream",
     "text": [
      "   A  python_1  python  B  C  python_12\n",
      "0  1        11       1  6  0        1.0\n",
      "1  2        12       2  7  5        2.0\n",
      "2  3        13       3  8  7        3.0\n",
      "3  4        14       4  9  6        NaN\n",
      "4  5        15       5  5  1        NaN\n"
     ]
    }
   ],
   "source": [
    "var['python_12']=var[\"A\"][:3]\n",
    "print(var)"
   ]
  },
  {
   "cell_type": "markdown",
   "metadata": {},
   "source": [
    "# Delete"
   ]
  },
  {
   "cell_type": "code",
   "execution_count": 4,
   "metadata": {},
   "outputs": [
    {
     "name": "stdout",
     "output_type": "stream",
     "text": [
      "1\n"
     ]
    }
   ],
   "source": [
    "var = {\"A\": 1, \"B\": 2, \"C\": 3}  # Define the dictionary\n",
    "shreyas = var.pop(\"A\")  # Use the pop method to remove and get the value associated with key \"A\"\n",
    "print(shreyas)  # This will print 1\n"
   ]
  },
  {
   "cell_type": "code",
   "execution_count": 5,
   "metadata": {},
   "outputs": [
    {
     "name": "stdout",
     "output_type": "stream",
     "text": [
      "{'B': 2, 'C': 3}\n"
     ]
    }
   ],
   "source": [
    "print(var)"
   ]
  },
  {
   "cell_type": "code",
   "execution_count": 6,
   "metadata": {},
   "outputs": [
    {
     "name": "stdout",
     "output_type": "stream",
     "text": [
      "{'B': 2}\n"
     ]
    }
   ],
   "source": [
    "del var[\"C\"]\n",
    "print(var)"
   ]
  },
  {
   "cell_type": "code",
   "execution_count": null,
   "metadata": {},
   "outputs": [],
   "source": []
  }
 ],
 "metadata": {
  "kernelspec": {
   "display_name": "Python 3",
   "language": "python",
   "name": "python3"
  },
  "language_info": {
   "codemirror_mode": {
    "name": "ipython",
    "version": 3
   },
   "file_extension": ".py",
   "mimetype": "text/x-python",
   "name": "python",
   "nbconvert_exporter": "python",
   "pygments_lexer": "ipython3",
   "version": "3.12.1"
  }
 },
 "nbformat": 4,
 "nbformat_minor": 2
}
